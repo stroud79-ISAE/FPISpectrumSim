{
 "cells": [
  {
   "cell_type": "markdown",
   "id": "a290f5b3",
   "metadata": {},
   "source": [
    "To be determined ..."
   ]
  },
  {
   "cell_type": "markdown",
   "id": "4cf76176",
   "metadata": {},
   "source": []
  }
 ],
 "metadata": {
  "language_info": {
   "name": "python"
  }
 },
 "nbformat": 4,
 "nbformat_minor": 5
}
